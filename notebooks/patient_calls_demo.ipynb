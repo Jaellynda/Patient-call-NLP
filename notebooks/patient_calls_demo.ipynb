{
 "cells": [
  {
   "cell_type": "markdown",
   "metadata": {},
   "source": [
    "# Patient Call NLP Demo\n",
    "\n",
    "This notebook demonstrates:\n",
    "- Loading sample patient call transcripts\n",
    "- Running summarization\n",
    "- Running topic modeling\n",
    "- Example API usage"
   ]
  }
 ],
 "metadata": {
  "kernelspec": {
   "display_name": "Python 3",
   "language": "python",
   "name": "python3"
  }
 },
 "nbformat": 4,
 "nbformat_minor": 2
}
